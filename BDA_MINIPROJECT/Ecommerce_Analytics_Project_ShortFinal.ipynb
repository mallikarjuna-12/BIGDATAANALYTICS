{
 "cells": [
  {
   "cell_type": "markdown",
   "id": "b4bd10b9",
   "metadata": {},
   "source": [
    "# 🛒 E-Commerce Analytics Project (Pandas + PySpark)\n",
    "---\n",
    "This notebook performs data analysis on `ecommerce_sample500.csv`, replicating the structure of the *Employees Office Data Analytics* PDF.\n",
    "\n",
    "**Steps Covered:**\n",
    "1. Import libraries\n",
    "2. Load and explore dataset\n",
    "3. Perform Pandas-based EDA\n",
    "4. Visualization with Matplotlib\n",
    "5. PySpark-based distributed analytics\n",
    "6. Export results\n"
   ]
  },
  {
   "cell_type": "code",
   "execution_count": 1,
   "id": "bfd2bf80",
   "metadata": {},
   "outputs": [],
   "source": [
    "\n",
    "import os\n",
    "import pandas as pd\n",
    "import matplotlib.pyplot as plt\n",
    "from pyspark.sql import SparkSession\n",
    "from pyspark.sql.functions import col, sum as _sum, avg as _avg, countDistinct, to_date\n"
   ]
  },
  {
   "cell_type": "code",
   "execution_count": 2,
   "id": "514f4a44",
   "metadata": {},
   "outputs": [
    {
     "data": {
      "text/html": [
       "<div>\n",
       "<style scoped>\n",
       "    .dataframe tbody tr th:only-of-type {\n",
       "        vertical-align: middle;\n",
       "    }\n",
       "\n",
       "    .dataframe tbody tr th {\n",
       "        vertical-align: top;\n",
       "    }\n",
       "\n",
       "    .dataframe thead th {\n",
       "        text-align: right;\n",
       "    }\n",
       "</style>\n",
       "<table border=\"1\" class=\"dataframe\">\n",
       "  <thead>\n",
       "    <tr style=\"text-align: right;\">\n",
       "      <th></th>\n",
       "      <th>InvoiceNo</th>\n",
       "      <th>StockCode</th>\n",
       "      <th>Description</th>\n",
       "      <th>Quantity</th>\n",
       "      <th>InvoiceDate</th>\n",
       "      <th>UnitPrice</th>\n",
       "      <th>CustomerID</th>\n",
       "      <th>Country</th>\n",
       "      <th>Revenue</th>\n",
       "    </tr>\n",
       "  </thead>\n",
       "  <tbody>\n",
       "    <tr>\n",
       "      <th>0</th>\n",
       "      <td>25795</td>\n",
       "      <td>1417</td>\n",
       "      <td>Watch</td>\n",
       "      <td>2</td>\n",
       "      <td>2022-01-01</td>\n",
       "      <td>303.59</td>\n",
       "      <td>10007</td>\n",
       "      <td>USA</td>\n",
       "      <td>607.18</td>\n",
       "    </tr>\n",
       "    <tr>\n",
       "      <th>1</th>\n",
       "      <td>10860</td>\n",
       "      <td>9306</td>\n",
       "      <td>Bag</td>\n",
       "      <td>8</td>\n",
       "      <td>2022-01-02</td>\n",
       "      <td>171.93</td>\n",
       "      <td>10919</td>\n",
       "      <td>United Kingdom</td>\n",
       "      <td>1375.44</td>\n",
       "    </tr>\n",
       "    <tr>\n",
       "      <th>2</th>\n",
       "      <td>86820</td>\n",
       "      <td>9808</td>\n",
       "      <td>Bag</td>\n",
       "      <td>3</td>\n",
       "      <td>2022-01-03</td>\n",
       "      <td>453.23</td>\n",
       "      <td>10507</td>\n",
       "      <td>United Kingdom</td>\n",
       "      <td>1359.69</td>\n",
       "    </tr>\n",
       "    <tr>\n",
       "      <th>3</th>\n",
       "      <td>64886</td>\n",
       "      <td>4974</td>\n",
       "      <td>Shoes</td>\n",
       "      <td>3</td>\n",
       "      <td>2022-01-04</td>\n",
       "      <td>387.45</td>\n",
       "      <td>10475</td>\n",
       "      <td>Spain</td>\n",
       "      <td>1162.35</td>\n",
       "    </tr>\n",
       "    <tr>\n",
       "      <th>4</th>\n",
       "      <td>16265</td>\n",
       "      <td>4267</td>\n",
       "      <td>Watch</td>\n",
       "      <td>8</td>\n",
       "      <td>2022-01-05</td>\n",
       "      <td>136.12</td>\n",
       "      <td>10296</td>\n",
       "      <td>France</td>\n",
       "      <td>1088.96</td>\n",
       "    </tr>\n",
       "  </tbody>\n",
       "</table>\n",
       "</div>"
      ],
      "text/plain": [
       "   InvoiceNo  StockCode Description  Quantity InvoiceDate  UnitPrice  \\\n",
       "0      25795       1417       Watch         2  2022-01-01     303.59   \n",
       "1      10860       9306         Bag         8  2022-01-02     171.93   \n",
       "2      86820       9808         Bag         3  2022-01-03     453.23   \n",
       "3      64886       4974       Shoes         3  2022-01-04     387.45   \n",
       "4      16265       4267       Watch         8  2022-01-05     136.12   \n",
       "\n",
       "   CustomerID         Country  Revenue  \n",
       "0       10007             USA   607.18  \n",
       "1       10919  United Kingdom  1375.44  \n",
       "2       10507  United Kingdom  1359.69  \n",
       "3       10475           Spain  1162.35  \n",
       "4       10296          France  1088.96  "
      ]
     },
     "execution_count": 2,
     "metadata": {},
     "output_type": "execute_result"
    }
   ],
   "source": [
    "\n",
    "# Load dataset\n",
    "csv_path = \"ecommerce_sample500.csv\"  # Update path if needed\n",
    "df = pd.read_csv(csv_path)\n",
    "\n",
    "# Convert InvoiceDate to datetime\n",
    "df['InvoiceDate'] = pd.to_datetime(df['InvoiceDate'], errors='coerce')\n",
    "\n",
    "# Add computed column\n",
    "df['Revenue'] = df['Quantity'] * df['UnitPrice']\n",
    "\n",
    "df.head()\n"
   ]
  },
  {
   "cell_type": "code",
   "execution_count": 3,
   "id": "0bccb9a6",
   "metadata": {},
   "outputs": [
    {
     "name": "stdout",
     "output_type": "stream",
     "text": [
      "Dataset shape: (500, 9)\n",
      "\n",
      "Missing values per column:\n",
      " InvoiceNo      0\n",
      "StockCode      0\n",
      "Description    0\n",
      "Quantity       0\n",
      "InvoiceDate    0\n",
      "UnitPrice      0\n",
      "CustomerID     0\n",
      "Country        0\n",
      "Revenue        0\n",
      "dtype: int64\n",
      "\n",
      "Basic statistics:\n",
      "             count         mean           std       min         25%        50%  \\\n",
      "InvoiceNo   500.0  55825.00600  26748.293127  10206.00  32596.2500  58379.000   \n",
      "StockCode   500.0   5560.13000   2553.722015   1005.00   3237.0000   5738.500   \n",
      "Quantity    500.0      4.93400      2.615210      1.00      3.0000      5.000   \n",
      "UnitPrice   500.0    245.41798    141.655875      5.16    117.7275    244.145   \n",
      "CustomerID  500.0  10534.06000    278.172465  10000.00  10299.0000  10549.500   \n",
      "Revenue     500.0   1229.36278   1032.802466      5.16    363.3825    919.375   \n",
      "\n",
      "                   75%       max  \n",
      "InvoiceNo   77983.5000  99912.00  \n",
      "StockCode    7834.5000   9989.00  \n",
      "Quantity        7.0000      9.00  \n",
      "UnitPrice     372.2275    497.76  \n",
      "CustomerID  10775.2500  10997.00  \n",
      "Revenue      1845.6525   4309.83  \n"
     ]
    }
   ],
   "source": [
    "\n",
    "print(\"Dataset shape:\", df.shape)\n",
    "print(\"\\nMissing values per column:\\n\", df.isnull().sum())\n",
    "print(\"\\nBasic statistics:\\n\", df.describe(include='number').T)\n"
   ]
  },
  {
   "cell_type": "code",
   "execution_count": 4,
   "id": "70b81b63",
   "metadata": {},
   "outputs": [
    {
     "name": "stdout",
     "output_type": "stream",
     "text": [
      "Total Orders: 500\n",
      "Unique Customers: 390\n",
      "Total Revenue: 614681.39\n",
      "AOV: 1229.36\n"
     ]
    },
    {
     "data": {
      "text/html": [
       "<div>\n",
       "<style scoped>\n",
       "    .dataframe tbody tr th:only-of-type {\n",
       "        vertical-align: middle;\n",
       "    }\n",
       "\n",
       "    .dataframe tbody tr th {\n",
       "        vertical-align: top;\n",
       "    }\n",
       "\n",
       "    .dataframe thead th {\n",
       "        text-align: right;\n",
       "    }\n",
       "</style>\n",
       "<table border=\"1\" class=\"dataframe\">\n",
       "  <thead>\n",
       "    <tr style=\"text-align: right;\">\n",
       "      <th></th>\n",
       "      <th>StockCode</th>\n",
       "      <th>Description</th>\n",
       "      <th>Revenue</th>\n",
       "    </tr>\n",
       "  </thead>\n",
       "  <tbody>\n",
       "    <tr>\n",
       "      <th>275</th>\n",
       "      <td>6124</td>\n",
       "      <td>T-Shirt</td>\n",
       "      <td>6319.04</td>\n",
       "    </tr>\n",
       "    <tr>\n",
       "      <th>485</th>\n",
       "      <td>9702</td>\n",
       "      <td>Watch</td>\n",
       "      <td>4309.83</td>\n",
       "    </tr>\n",
       "    <tr>\n",
       "      <th>477</th>\n",
       "      <td>9567</td>\n",
       "      <td>T-Shirt</td>\n",
       "      <td>4155.30</td>\n",
       "    </tr>\n",
       "    <tr>\n",
       "      <th>151</th>\n",
       "      <td>3824</td>\n",
       "      <td>Shoes</td>\n",
       "      <td>4096.35</td>\n",
       "    </tr>\n",
       "    <tr>\n",
       "      <th>361</th>\n",
       "      <td>7588</td>\n",
       "      <td>Shoes</td>\n",
       "      <td>4046.76</td>\n",
       "    </tr>\n",
       "    <tr>\n",
       "      <th>364</th>\n",
       "      <td>7677</td>\n",
       "      <td>Bag</td>\n",
       "      <td>3861.92</td>\n",
       "    </tr>\n",
       "    <tr>\n",
       "      <th>218</th>\n",
       "      <td>5186</td>\n",
       "      <td>Shoes</td>\n",
       "      <td>3813.04</td>\n",
       "    </tr>\n",
       "    <tr>\n",
       "      <th>381</th>\n",
       "      <td>7941</td>\n",
       "      <td>Watch</td>\n",
       "      <td>3808.53</td>\n",
       "    </tr>\n",
       "    <tr>\n",
       "      <th>494</th>\n",
       "      <td>9905</td>\n",
       "      <td>Headphones</td>\n",
       "      <td>3721.23</td>\n",
       "    </tr>\n",
       "    <tr>\n",
       "      <th>228</th>\n",
       "      <td>5300</td>\n",
       "      <td>Laptop</td>\n",
       "      <td>3716.16</td>\n",
       "    </tr>\n",
       "  </tbody>\n",
       "</table>\n",
       "</div>"
      ],
      "text/plain": [
       "     StockCode Description  Revenue\n",
       "275       6124     T-Shirt  6319.04\n",
       "485       9702       Watch  4309.83\n",
       "477       9567     T-Shirt  4155.30\n",
       "151       3824       Shoes  4096.35\n",
       "361       7588       Shoes  4046.76\n",
       "364       7677         Bag  3861.92\n",
       "218       5186       Shoes  3813.04\n",
       "381       7941       Watch  3808.53\n",
       "494       9905  Headphones  3721.23\n",
       "228       5300      Laptop  3716.16"
      ]
     },
     "execution_count": 4,
     "metadata": {},
     "output_type": "execute_result"
    }
   ],
   "source": [
    "\n",
    "# Basic KPIs\n",
    "total_orders = df['InvoiceNo'].nunique()\n",
    "unique_customers = df['CustomerID'].nunique()\n",
    "total_revenue = df['Revenue'].sum()\n",
    "avg_order_value = df.groupby('InvoiceNo')['Revenue'].sum().mean()\n",
    "\n",
    "print(f\"Total Orders: {total_orders}\\nUnique Customers: {unique_customers}\\nTotal Revenue: {total_revenue:.2f}\\nAOV: {avg_order_value:.2f}\")\n",
    "\n",
    "# Top products by revenue\n",
    "top_products = df.groupby(['StockCode','Description'])['Revenue'].sum().reset_index().sort_values('Revenue', ascending=False)\n",
    "top_products.head(10)\n"
   ]
  },
  {
   "cell_type": "code",
   "execution_count": 5,
   "id": "deec424b",
   "metadata": {},
   "outputs": [
    {
     "data": {
      "image/png": "[encoded data removed]",
      "text/plain": [
       "<Figure size 800x500 with 1 Axes>"
      ]
     },
     "metadata": {},
     "output_type": "display_data"
    },
    {
     "data": {
      "image/png": "[encoded data removed]",
      "text/plain": [
       "<Figure size 800x500 with 1 Axes>"
      ]
     },
     "metadata": {},
     "output_type": "display_data"
    }
   ],
   "source": [
    "\n",
    "out_dir = \"outputs\"\n",
    "os.makedirs(out_dir, exist_ok=True)\n",
    "\n",
    "# Quantity distribution\n",
    "plt.figure(figsize=(8,5))\n",
    "plt.hist(df['Quantity'], bins=20, color='skyblue', edgecolor='black')\n",
    "plt.title('Quantity Distribution')\n",
    "plt.xlabel('Quantity')\n",
    "plt.ylabel('Count')\n",
    "plt.savefig(f\"{out_dir}/quantity_distribution.png\")\n",
    "plt.show()\n",
    "\n",
    "# Revenue by top 10 countries\n",
    "country_sales = df.groupby('Country')['Revenue'].sum().sort_values(ascending=False).head(10)\n",
    "plt.figure(figsize=(8,5))\n",
    "country_sales.plot(kind='bar', color='coral', edgecolor='black')\n",
    "plt.title('Top 10 Countries by Revenue')\n",
    "plt.xlabel('Country')\n",
    "plt.ylabel('Total Revenue')\n",
    "plt.savefig(f\"{out_dir}/top_countries_revenue.png\")\n",
    "plt.show()\n"
   ]
  },
  {
   "cell_type": "code",
   "execution_count": 6,
   "id": "19567008",
   "metadata": {},
   "outputs": [
    {
     "name": "stdout",
     "output_type": "stream",
     "text": [
      "root\n",
      " |-- InvoiceNo: integer (nullable = true)\n",
      " |-- StockCode: integer (nullable = true)\n",
      " |-- Description: string (nullable = true)\n",
      " |-- Quantity: integer (nullable = true)\n",
      " |-- InvoiceDate: date (nullable = true)\n",
      " |-- UnitPrice: double (nullable = true)\n",
      " |-- CustomerID: integer (nullable = true)\n",
      " |-- Country: string (nullable = true)\n",
      " |-- Revenue: double (nullable = true)\n",
      "\n"
     ]
    }
   ],
   "source": [
    "\n",
    "spark = SparkSession.builder.appName(\"EcommerceAnalysis\").master(\"local[*]\").getOrCreate()\n",
    "\n",
    "spark_df = spark.read.option(\"header\", True).option(\"inferSchema\", True).csv(csv_path)\n",
    "spark_df = spark_df.withColumn(\"Revenue\", col(\"Quantity\") * col(\"UnitPrice\"))\n",
    "\n",
    "spark_df.printSchema()\n"
   ]
  },
  {
   "cell_type": "code",
   "execution_count": 7,
   "id": "4afd8f54",
   "metadata": {},
   "outputs": [
    {
     "name": "stdout",
     "output_type": "stream",
     "text": [
      "Total Revenue: 614681.39\n",
      "Total Orders: 500\n",
      "Unique Customers: 390\n"
     ]
    }
   ],
   "source": [
    "\n",
    "# Spark Aggregations\n",
    "agg_summary = spark_df.agg(\n",
    "    _sum(\"Revenue\").alias(\"total_revenue\"),\n",
    "    countDistinct(\"InvoiceNo\").alias(\"total_orders\"),\n",
    "    countDistinct(\"CustomerID\").alias(\"unique_customers\")\n",
    ").collect()[0]\n",
    "\n",
    "print(f\"Total Revenue: {agg_summary['total_revenue']:.2f}\\nTotal Orders: {agg_summary['total_orders']}\\nUnique Customers: {agg_summary['unique_customers']}\")\n"
   ]
  },
  {
   "cell_type": "code",
   "execution_count": 8,
   "id": "95e18456",
   "metadata": {},
   "outputs": [
    {
     "name": "stdout",
     "output_type": "stream",
     "text": [
      "+---------+-----------+------------------+\n",
      "|StockCode|Description|           Revenue|\n",
      "+---------+-----------+------------------+\n",
      "|     6124|    T-Shirt| 6319.039999999999|\n",
      "|     9702|      Watch|           4309.83|\n",
      "|     9567|    T-Shirt|            4155.3|\n",
      "|     3824|      Shoes| 4096.349999999999|\n",
      "|     7588|      Shoes|4046.7599999999998|\n",
      "|     7677|        Bag|           3861.92|\n",
      "|     5186|      Shoes|           3813.04|\n",
      "|     7941|      Watch|           3808.53|\n",
      "|     9905| Headphones|3721.2300000000005|\n",
      "|     5300|     Laptop|           3716.16|\n",
      "+---------+-----------+------------------+\n",
      "only showing top 10 rows\n",
      "+--------------+------------------+------------------+\n",
      "|       Country|      TotalRevenue|        AvgRevenue|\n",
      "+--------------+------------------+------------------+\n",
      "|         Italy|115240.68999999997|1266.3812087912086|\n",
      "|United Kingdom|111573.72999999998|1328.2586904761902|\n",
      "|        France|104444.95000000003|1160.4994444444446|\n",
      "|           USA|101261.01999999999| 1298.218205128205|\n",
      "|         Spain|         100409.43| 1181.287411764706|\n",
      "|       Germany|          81751.57|1135.4384722222223|\n",
      "+--------------+------------------+------------------+\n",
      "\n"
     ]
    }
   ],
   "source": [
    "\n",
    "# Top products by revenue (Spark)\n",
    "top_products_spark = spark_df.groupBy(\"StockCode\", \"Description\").agg(_sum(\"Revenue\").alias(\"Revenue\")).orderBy(col(\"Revenue\").desc())\n",
    "top_products_spark.show(10)\n",
    "\n",
    "# Country-level revenue\n",
    "country_sales_spark = spark_df.groupBy(\"Country\").agg(_sum(\"Revenue\").alias(\"TotalRevenue\"), _avg(\"Revenue\").alias(\"AvgRevenue\")).orderBy(col(\"TotalRevenue\").desc())\n",
    "country_sales_spark.show(10)\n"
   ]
  },
  {
   "cell_type": "code",
   "execution_count": 16,
   "id": "1c789cb7",
   "metadata": {},
   "outputs": [
    {
     "name": "stdout",
     "output_type": "stream",
     "text": [
      "✅ Results saved in 'outputs_spark' folder as CSV files.\n"
     ]
    }
   ],
   "source": [
    "import os\n",
    "\n",
    "output_dir = \"outputs_spark\"\n",
    "os.makedirs(output_dir, exist_ok=True)\n",
    "\n",
    "# Save Spark DataFrames safely using Pandas\n",
    "dfs = {\"top_products\": top_products_spark, \"country_sales\": country_sales_spark}\n",
    "\n",
    "for name, df in dfs.items():\n",
    "    df.toPandas().to_csv(f\"{output_dir}/{name}.csv\", index=False)\n",
    "\n",
    "print(f\"✅ Results saved in '{output_dir}' folder as CSV files.\")\n"
   ]
  },
  {
   "cell_type": "code",
   "execution_count": null,
   "id": "612bd5e7-a7d6-46e1-9819-89d5b9dd702c",
   "metadata": {},
   "outputs": [],
   "source": []
  },
  {
   "cell_type": "code",
   "execution_count": null,
   "id": "0e5ec080-c27d-4a15-97b6-7d762d480dec",
   "metadata": {},
   "outputs": [],
   "source": []
  }
 ],
 "metadata": {
  "kernelspec": {
   "display_name": "Python 3 (ipykernel)",
   "language": "python",
   "name": "python3"
  },
  "language": "python",
  "language_info": {
   "codemirror_mode": {
    "name": "ipython",
    "version": 3
   },
   "file_extension": ".py",
   "mimetype": "text/x-python",
   "name": "python",
   "nbconvert_exporter": "python",
   "pygments_lexer": "ipython3",
   "version": "3.11.0"
  }
 },
 "nbformat": 4,
 "nbformat_minor": 5
}
